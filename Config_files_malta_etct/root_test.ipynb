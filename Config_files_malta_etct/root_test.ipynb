{
 "cells": [
  {
   "cell_type": "code",
   "execution_count": null,
   "metadata": {},
   "outputs": [],
   "source": [
    "import ROOT\n",
    "from ROOT import TCanvas, TFile, TProfile, TNtuple, TH1F, TH2F\n",
    "myFile = ROOT.TFile.Open(\"modules.root\", \"read\")\n",
    "print(myFile)\n",
    "data = myFile.Get(\"PulseTransfer\")\n",
    "print(myFile.GetListOfKeys())\n",
    "for name in myFile.GetListOfKeys():\n",
    "    print(name.GetName())\n",
    "#for event in myFile:\n",
    " #   print('yay')\n",
    "print(data)\n",
    "detector = data.Get(\"detector1\")\n",
    "print(detector.GetListOfKeys())\n",
    "for i in detector.GetListOfKeys():\n",
    "    print(i.GetName())\n",
    "event = detector.Get(\"pulse_ev4_px257-1\")\n",
    "print(event)\n",
    "\n",
    "\n",
    "\n",
    "c1 = TCanvas( 'c1', 'Testing', 200, 10, 700, 900 )\n",
    "c1.SetFillColor( 18 )\n",
    "c1.Draw(\"event\")"
   ]
  }
 ],
 "metadata": {
  "language_info": {
   "name": "python"
  }
 },
 "nbformat": 4,
 "nbformat_minor": 2
}
