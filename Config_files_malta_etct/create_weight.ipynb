{
 "cells": [
  {
   "cell_type": "code",
   "execution_count": null,
   "metadata": {
    "vscode": {
     "languageId": "plaintext"
    }
   },
   "outputs": [],
   "source": [
    "import numpy as np\n",
    "import re\n",
    "\n",
    "def search_line(search1, search2, i1, i2, i3):\n",
    "    if search1 == None and search2 == None:\n",
    "        wf_data = 0.0\n",
    "        rewrite_dat(wf_data, i1, i2, i3)\n",
    "        \n",
    "    elif search1 == None and search2!= None:\n",
    "        wf_data = np.abs((0-float(line2[search2.start()-1:]))/(0.1-0.01))\n",
    "        wf_data_new = check(wf_data)\n",
    "        rewrite_dat(wf_data_new, i1, i2, i3)\n",
    "        \n",
    "    elif search1 != None and search2 == None:\n",
    "        wf_data = np.abs((float(line1[search1.start()-1:]))/(0.1-0.01))\n",
    "        wf_data_new = check(wf_data)\n",
    "        rewrite_dat(wf_data_new, i1, i2, i3)\n",
    "        \n",
    "    else:\n",
    "        wf_data = np.abs((float(line1[search1.start()-1:])-float(line2[search2.start()-1:]))/(0.1-0.01))\n",
    "        print()\n",
    "        wf_data_new = check(wf_data)\n",
    "        rewrite_dat(wf_data_new, i1, i2, i3)\n",
    "    return\n",
    "\n",
    "def check(wf_data):\n",
    "    if wf_data>1:\n",
    "        wf_data = 1.0\n",
    "    elif wf_data< 0:\n",
    "        wf_data = 0.0\n",
    "        print('yes')\n",
    "        \n",
    "    return wf_data\n",
    "\n",
    "def rewrite_dat(wf_data, i1, i2, i3):\n",
    "    wtot.write(f\"{i1} {i2} {i3} {wf_data}\\n\") \n",
    "    return\n",
    "\n",
    "with open(\"big_w1_ElectrostaticPotential.init\", \"r\") as w1, open(\"big_w2_ElectrostaticPotential.init\", \"r\") as w2, open(\"big_p_weighting.init\", \"r+\") as wtot:\n",
    "    for _ in range(5):\n",
    "        next(w1)\n",
    "        next(w2)\n",
    "    i1, i2, i3 = 1, 1, 0\n",
    "    for line1, line2 in zip(w1,w2):\n",
    "        search1 = re.search(r\"([0-9]\\.[0-9])\", line1)\n",
    "        search2 = re.search(r\"([0-9]\\.[0-9])\", line2)\n",
    "        if i3 == 100:\n",
    "            i3 = 0\n",
    "            i2 += 1\n",
    "        if i2 == 101:\n",
    "            i2 = 1\n",
    "            i1 += 1\n",
    "        i3+=1\n",
    "        search_line(search1, search2, i1, i2, i3)\n",
    "\n",
    "wtot.close()"
   ]
  },
  {
   "cell_type": "code",
   "execution_count": null,
   "metadata": {
    "vscode": {
     "languageId": "plaintext"
    }
   },
   "outputs": [],
   "source": [
    "import numpy as np\n",
    "import re\n",
    "\n",
    "def search_line(search1, i1, i2, i3):\n",
    "    wf_data = np.abs((float(line1[search1.start()-1:])-0.545302))\n",
    "    wf_data_new = check(wf_data)\n",
    "    rewrite_dat(wf_data_new, i1, i2, i3)\n",
    "    return\n",
    "\n",
    "def check(wf_data):\n",
    "    if wf_data>1:\n",
    "        wf_data = 1.0\n",
    "        print('oops')\n",
    "    elif wf_data< 0:\n",
    "        wf_data = 0.0\n",
    "        print('oops')\n",
    "        \n",
    "    return wf_data\n",
    "\n",
    "def rewrite_dat(wf_data, i1, i2, i3):\n",
    "    wend.write(f\"{i1} {i2} {i3} {wf_data}\\n\") \n",
    "    return\n",
    "\n",
    "with open(\"w_vac1_ElectrostaticPotential.init\", \"r\") as w1, open(\"1v_result.init\", \"r+\") as wend:\n",
    "    for _ in range(5):\n",
    "        next(w1)\n",
    "    i1, i2, i3 = 1, 1, 0\n",
    "    for line1 in w1:\n",
    "        search1 = re.search(r\"([0-9]\\.[0-9])\", line1)\n",
    "        print(search1)\n",
    "        if i3 == 100:\n",
    "            i3 = 0\n",
    "            i2 += 1\n",
    "        if i2 == 101:\n",
    "            i2 = 1\n",
    "            i1 += 1\n",
    "        i3+=1\n",
    "        search_line(search1, i1, i2, i3)\n",
    "\n",
    "wtot.close()"
   ]
  },
  {
   "cell_type": "code",
   "execution_count": null,
   "metadata": {
    "vscode": {
     "languageId": "plaintext"
    }
   },
   "outputs": [],
   "source": []
  },
  {
   "cell_type": "code",
   "execution_count": null,
   "metadata": {
    "vscode": {
     "languageId": "plaintext"
    }
   },
   "outputs": [],
   "source": []
  }
 ],
 "metadata": {
  "language_info": {
   "name": "python"
  }
 },
 "nbformat": 4,
 "nbformat_minor": 2
}
