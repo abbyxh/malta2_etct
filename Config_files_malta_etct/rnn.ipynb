{
 "cells": [
  {
   "cell_type": "code",
   "execution_count": null,
   "metadata": {
    "vscode": {
     "languageId": "plaintext"
    }
   },
   "outputs": [],
   "source": [
    "import tensorflow as tf\n",
    "import matplotlib.pyplot as plt\n",
    "import numpy as np\n",
    "import pandas as pd\n",
    "np.set_printoptions(precision=3, suppress=True)\n",
    "from tensorflow import keras\n",
    "from tensorflow.keras import layers\n",
    "import array as arr"
   ]
  },
  {
   "cell_type": "code",
   "execution_count": null,
   "metadata": {
    "vscode": {
     "languageId": "plaintext"
    }
   },
   "outputs": [],
   "source": [
    "from ROOT import TCanvas, TGraph, TFile, TH1F, TH2D\n",
    "import numpy as np\n",
    "import re\n",
    "import scipy as sc\n",
    "import matplotlib.pyplot as plt\n",
    "\n",
    "def collect_pulse_data(file):\n",
    "    myFile = TFile.Open(file, \"read\")\n",
    "    data = myFile.Get(\"PulseTransfer\")\n",
    "    detector = data.Get(\"detector1\")\n",
    "    pulsed_array = []\n",
    "    for key in detector.GetListOfKeys():\n",
    "        name = key.GetName()\n",
    "        graph = detector.Get(name)\n",
    "        if type(graph) != TGraph:\n",
    "            continue\n",
    "        else:\n",
    "            searching = re.search(\"current\", graph.GetTitle())\n",
    "            if searching != None:\n",
    "                a = graph.GetTitle()[43:searching.start()]\n",
    "                pulsed_array.append(a)\n",
    "                event = detector.Get(name)\n",
    "                x = event.GetX()\n",
    "                y = event.GetY()\n",
    "                x_title = event.GetXaxis()\n",
    "                if (str(x_title))[22:-1] != 'ns':\n",
    "                    print('Units have changed')\n",
    "                    break\n",
    "                \n",
    "    return pulsed_array, x, y\n",
    "\n",
    "def collect_efield(files_tot, position):\n",
    "    each_field = arr.array('f', [])\n",
    "    for file in files_tot:\n",
    "        field_values = arr.array('f', [])\n",
    "        for f, p in zip(file, position):\n",
    "            myFile = TFile.Open(f, \"read\")\n",
    "            data = myFile.Get(\"ElectricFieldReader\")\n",
    "            detector = data.Get(\"detector1\")\n",
    "            efield = detector.Get(\"field1d_z\")\n",
    "            no_bins = efield.GetNbinsX()\n",
    "            bin_size = 0.1/no_bins\n",
    "            \n",
    "            pos = p*10**(-3)\n",
    "                \n",
    "            placement = -0.05\n",
    "            for bin in range(no_bins):  \n",
    "                placement += bin_size\n",
    "                if placement >= pos:\n",
    "                    print(efield.GetBinContent(bin))\n",
    "                    field_strength = arr.array('f', [efield.GetBinContent(bin)])\n",
    "                    field_values = np.concatenate((field_values, field_strength))\n",
    "                    break\n",
    "                    \n",
    "        each_field = np.concatenate((each_field, field_values))\n",
    "    each_field = each_field.reshape((len(files_tot), len(position), 1))\n",
    "        \n",
    "    return each_field\n",
    "\n",
    "def array_data(field_x, field_y, time_vals):\n",
    "    field_data = arr.array('f', [])\n",
    "    for x_data, y_data in zip(field_x, field_y):\n",
    "        data_tot = arr.array('f', [])\n",
    "        for x, y in zip(x_data, y_data):\n",
    "            y_array = arr.array('f', [])\n",
    "            for t in time_vals:\n",
    "                if x[-1] < t:\n",
    "                    y_array.append(0)\n",
    "                    if len(y_array) == len(time_vals):\n",
    "                        data_tot = np.concatenate((data_tot, y_array))\n",
    "                \n",
    "                else:\n",
    "                    for i in range(len(x)):\n",
    "                        if x[i] >= t and x[i-1] < t:\n",
    "                            y_array.append(y[i])\n",
    "                            if len(y_array) == len(time_vals):\n",
    "                                data_tot = np.concatenate((data_tot, y_array))\n",
    "                            break\n",
    "                        else:\n",
    "                            continue\n",
    "    \n",
    "        field_data = np.concatenate((field_data, data_tot))\n",
    "    field_data = field_data.reshape((len(field_x), len(x_data), len(time_vals)))\n",
    "\n",
    "    return field_data\n",
    "\n",
    "files1 = [\"root_files/data_10ps_n40.root\", \"root_files/data_10ps_n30.root\", \"root_files/data_10ps_n20.root\", \"root_files/data_10ps_n10.root\",\"root_files/data_10ps_0.root\", \"root_files/data_10ps_p10.root\", \"root_files/data_10ps_p20.root\", \"root_files/data_10ps_p30.root\", \"root_files/data_10ps_p40.root\"] \n",
    "files2 = [\"root_files/less_overbias_n40.root\", \"root_files/less_overbias_n30.root\", \"root_files/less_overbias_n20.root\", \"root_files/less_overboas_n10.root\", \"root_files/less_overbias_0.root\", \"root_files/less_overbias_p10.root\", \"root_files/less_overbias_p20.root\", \"root_files/less_overbias_p30.root\", \"root_files/less_overbias_p40.root\"] \n",
    "files4 = [\"root_files/lin1_n40.root\", \"root_files/lin1_n30.root\", \"root_files/lin1_n20.root\", \"root_files/lin1_n10.root\", \"root_files/lin1_0.root\", \"root_files/lin1_p10.root\", \"root_files/lin1_p20.root\", \"root_files/lin1_p30.root\", \"root_files/lin1_p40.root\"]\n",
    "files5 = [\"root_files/lin2_n40.root\", \"root_files/lin2_n30.root\", \"root_files/lin2_n20.root\", \"root_files/lin2_n10.root\", \"root_files/lin2_0.root\", \"root_files/lin2_p10.root\", \"root_files/lin2_p20.root\", \"root_files/lin2_p30.root\", \"root_files/lin2_p40.root\"]\n",
    "files6 = [\"root_files/lin3_n40.root\", \"root_files/lin3_n30.root\", \"root_files/lin3_n20.root\", \"root_files/lin3_n10.root\", \"root_files/lin3_0.root\", \"root_files/lin3_p10.root\", \"root_files/lin3_p20.root\", \"root_files/lin3_p30.root\", \"root_files/lin3_p40.root\"]\n",
    "files7 = [\"root_files/lin11_n40.root\", \"root_files/lin11_n30.root\", \"root_files/lin11_n20.root\", \"root_files/lin11_n10.root\", \"root_files/lin11_0.root\", \"root_files/lin11_p10.root\", \"root_files/lin11_p20.root\", \"root_files/lin11_p30.root\", \"root_files/lin11_p40.root\"]\n",
    "files8 = [\"root_files/lin5_n40.root\", \"root_files/lin5_n30.root\", \"root_files/lin5_n20.root\", \"root_files/lin5_n10.root\", \"root_files/lin5_0.root\", \"root_files/lin5_p10.root\", \"root_files/lin5_p20.root\", \"root_files/lin5_p30.root\", \"root_files/lin5_p40.root\"]\n",
    "files9 = [\"root_files/lin6_n40.root\", \"root_files/lin6_n30.root\", \"root_files/lin6_n20.root\", \"root_files/lin6_n10.root\", \"root_files/lin6_0.root\", \"root_files/lin6_p10.root\", \"root_files/lin6_p20.root\", \"root_files/lin6_p30.root\", \"root_files/lin6_p40.root\"]\n",
    "files10 = [\"root_files/lin7_n40.root\", \"root_files/lin7_n30.root\", \"root_files/lin7_n20.root\", \"root_files/lin7_n10.root\", \"root_files/lin7_0.root\", \"root_files/lin7_p10.root\", \"root_files/lin7_p20.root\", \"root_files/lin7_p30.root\", \"root_files/lin7_p40.root\"]\n",
    "files11 = [\"root_files/lin8_n40.root\", \"root_files/lin8_n30.root\", \"root_files/lin8_n20.root\", \"root_files/lin8_n10.root\", \"root_files/lin8_0.root\", \"root_files/lin8_p10.root\", \"root_files/lin8_p20.root\", \"root_files/lin8_p30.root\", \"root_files/lin8_p40.root\"]\n",
    "files12 = [\"root_files/lin9_n40.root\", \"root_files/lin9_n30.root\", \"root_files/lin9_n20.root\", \"root_files/lin9_n10.root\", \"root_files/lin9_0.root\", \"root_files/lin9_p10.root\", \"root_files/lin9_p20.root\", \"root_files/lin9_p30.root\", \"root_files/lin9_p40.root\"]\n",
    "files13 = [\"root_files/lin10_n40.root\", \"root_files/lin10_n30.root\", \"root_files/lin10_n20.root\", \"root_files/lin10_n10.root\", \"root_files/lin10_0.root\", \"root_files/lin10_p10.root\", \"root_files/lin10_p20.root\", \"root_files/lin10_p30.root\", \"root_files/lin10_p40.root\"]\n",
    "files14 = [\"root_files/lin12_n40.root\", \"root_files/lin12_n30.root\", \"root_files/lin12_n20.root\", \"root_files/lin12_n10.root\", \"root_files/lin12_0.root\", \"root_files/lin12_p10.root\", \"root_files/lin12_p20.root\", \"root_files/lin12_p30.root\", \"root_files/lin12_p40.root\"]\n",
    "\n",
    "\n",
    "positions = [40, 30, 20, 10, 0, -10, -20, -30, -40] \n",
    "files_tot = [files1]+[files2]+[files4]+[files5]+[files6]+[files7]+[files8]+[files9]+[files10]+[files11]+[files12]+[files13]+[files14]+[['root_files/lin_273_2_40.root', 'root_files/lin_273_2_30.root', 'root_files/lin_273_2_20.root', 'root_files/lin_273_2_10.root', 'root_files/lin_273_2_0.root', 'root_files/lin_273_2_-10.root', 'root_files/lin_273_2_-20.root', 'root_files/lin_273_2_-30.root', 'root_files/lin_273_2_-40.root'], ['root_files/lin_273_3_40.root', 'root_files/lin_273_3_30.root', 'root_files/lin_273_3_20.root', 'root_files/lin_273_3_10.root', 'root_files/lin_273_3_0.root', 'root_files/lin_273_3_-10.root', 'root_files/lin_273_3_-20.root', 'root_files/lin_273_3_-30.root', 'root_files/lin_273_3_-40.root']]\n",
    "\n",
    "print(files_tot)\n",
    "x_tot, y_tot, pulse_tot = [], [], []\n",
    "for f in files_tot:\n",
    "    x_values, y_values, pulse_names = [], [], []\n",
    "    for dat in f:\n",
    "        pulse, x_dat, y_dat = collect_pulse_data(dat)\n",
    "        pulse_names.append(pulse)\n",
    "        x_values.append(np.array(x_dat))\n",
    "        y_values.append(np.array(y_dat))\n",
    "        \n",
    "    x_tot.append(x_values)\n",
    "    y_tot.append(y_values)\n",
    "    pulse_tot.append(pulse_names)\n",
    "\n",
    "data_tot = array_data(x_tot, y_tot, np.linspace(0.1,5,num=100))\n",
    "print(data_tot)\n",
    "\n",
    "e_field = collect_efield(files_tot, positions)\n",
    "print(e_field)"
   ]
  },
  {
   "cell_type": "code",
   "execution_count": null,
   "metadata": {
    "vscode": {
     "languageId": "plaintext"
    }
   },
   "outputs": [],
   "source": [
    "column_names = ['Current_pulse', 'E_field']\n",
    "\n",
    "x_train = data_tot.astype(\"float32\")\n",
    "y_train = e_field.astype(\"float32\")\n",
    "\n",
    "def build_and_compile_model():\n",
    "  model = keras.Sequential([\n",
    "    layers.Dense(1000, activation='relu'),\n",
    "    layers.Dense(1000, activation='relu'),\n",
    "    layers.Dense(1)\n",
    "  ])\n",
    "\n",
    "  model.compile(loss='mean_absolute_error',\n",
    "                optimizer=tf.keras.optimizers.Adam(0.001))\n",
    "  return model\n",
    "\n",
    "model = build_and_compile_model()\n",
    "\n",
    "history = model.fit(\n",
    "    x_train,\n",
    "    y_train,\n",
    "    validation_split=0.2,\n",
    "    verbose=0, epochs=175)\n",
    "\n"
   ]
  },
  {
   "cell_type": "code",
   "execution_count": null,
   "metadata": {
    "vscode": {
     "languageId": "plaintext"
    }
   },
   "outputs": [],
   "source": [
    "def plot_loss(history):\n",
    "  plt.plot(history.history['loss'], label='Loss')\n",
    "  plt.plot(history.history['val_loss'], label='Validation Loss')\n",
    "  #plt.ylim(0,1000)\n",
    "  plt.title(\"Losses for the Machine Learning Model\")\n",
    "  plt.xlabel('Epoch')\n",
    "  plt.ylabel('Error')\n",
    "  plt.legend()\n",
    "  plt.grid(True)\n",
    "  \n",
    "plot_loss(history)\n",
    "print(history.history['loss'])"
   ]
  },
  {
   "cell_type": "code",
   "execution_count": null,
   "metadata": {
    "vscode": {
     "languageId": "plaintext"
    }
   },
   "outputs": [],
   "source": [
    "test_files = [[\"root_files/lin4_n40.root\", \"root_files/lin4_n30.root\", \"root_files/lin4_n20.root\", \"root_files/lin4_n10.root\", \"root_files/lin4_0.root\", \"root_files/lin4_p10.root\", \"root_files/lin4_p20.root\", \"root_files/lin4_p30.root\", \"root_files/lin4_p40.root\"]]\n",
    "x_test, y_test, pulse_test = [], [], []\n",
    "for f in test_files:\n",
    "    x_1, y_1, pulse_names = [], [], []\n",
    "    for dat in f:\n",
    "        pulse, x, y = collect_pulse_data(dat)\n",
    "        pulse_names.append(pulse)\n",
    "        x_1.append(np.array(x))\n",
    "        y_1.append(np.array(y))\n",
    "        \n",
    "    x_test.append(x_1)\n",
    "    y_test.append(y_1)\n",
    "    pulse_test.append(pulse_names)\n",
    "\n",
    "data_test = array_data(x_test, y_test, np.linspace(0.1,5,num=100))\n",
    "#print(data_test)\n",
    "y = model.predict(data_test)\n",
    "print(y)"
   ]
  },
  {
   "cell_type": "code",
   "execution_count": null,
   "metadata": {
    "vscode": {
     "languageId": "plaintext"
    }
   },
   "outputs": [],
   "source": [
    "print(y[0])\n",
    "plt.plot(positions, collect_efield(test_files, positions)[0], label='Allpix Applied Electric Field')\n",
    "plt.plot(positions, y[0], color='k', label='ML Prediction for the Electric Field')\n",
    "plt.title(\"Electric Field Prediction using ML Model\")\n",
    "plt.xlabel('Position (\\u03bcm)')\n",
    "plt.ylabel('E_field (V/cm)')\n",
    "#plt.ylim(-85000,-45000)\n",
    "plt.legend()\n",
    "plt.show()"
   ]
  }
 ],
 "metadata": {
  "language_info": {
   "name": "python"
  }
 },
 "nbformat": 4,
 "nbformat_minor": 2
}
